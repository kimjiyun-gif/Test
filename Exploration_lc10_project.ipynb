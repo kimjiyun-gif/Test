{
 "cells": [
  {
   "cell_type": "markdown",
   "id": "attached-ordinance",
   "metadata": {},
   "source": [
    "# Project : 뉴스기사 요약해보기"
   ]
  },
  {
   "cell_type": "markdown",
   "id": "generic-reliance",
   "metadata": {},
   "source": [
    "## Step 1. 데이터 수집하기"
   ]
  },
  {
   "cell_type": "code",
   "execution_count": 2,
   "id": "commercial-findings",
   "metadata": {},
   "outputs": [
    {
     "name": "stderr",
     "output_type": "stream",
     "text": [
      "[nltk_data] Downloading package stopwords to /aiffel/nltk_data...\n",
      "[nltk_data]   Package stopwords is already up-to-date!\n"
     ]
    }
   ],
   "source": [
    "import nltk\n",
    "nltk.download('stopwords')\n",
    "\n",
    "import numpy as np\n",
    "import pandas as pd\n",
    "import os\n",
    "import re\n",
    "import matplotlib.pyplot as plt\n",
    "from nltk.corpus import stopwords\n",
    "from bs4 import BeautifulSoup \n",
    "from tensorflow.keras.preprocessing.text import Tokenizer \n",
    "from tensorflow.keras.preprocessing.sequence import pad_sequences\n",
    "import urllib.request"
   ]
  },
  {
   "cell_type": "code",
   "execution_count": 3,
   "id": "guilty-cigarette",
   "metadata": {},
   "outputs": [],
   "source": [
    "import urllib.request\n",
    "urllib.request.urlretrieve(\"https://raw.githubusercontent.com/sunnysai12345/News_Summary/master/news_summary_more.csv\", filename=\"news_summary_more.csv\")\n",
    "data = pd.read_csv('news_summary_more.csv', encoding='iso-8859-1')"
   ]
  },
  {
   "cell_type": "code",
   "execution_count": 4,
   "id": "durable-laptop",
   "metadata": {},
   "outputs": [
    {
     "data": {
      "text/html": [
       "<div>\n",
       "<style scoped>\n",
       "    .dataframe tbody tr th:only-of-type {\n",
       "        vertical-align: middle;\n",
       "    }\n",
       "\n",
       "    .dataframe tbody tr th {\n",
       "        vertical-align: top;\n",
       "    }\n",
       "\n",
       "    .dataframe thead th {\n",
       "        text-align: right;\n",
       "    }\n",
       "</style>\n",
       "<table border=\"1\" class=\"dataframe\">\n",
       "  <thead>\n",
       "    <tr style=\"text-align: right;\">\n",
       "      <th></th>\n",
       "      <th>headlines</th>\n",
       "      <th>text</th>\n",
       "    </tr>\n",
       "  </thead>\n",
       "  <tbody>\n",
       "    <tr>\n",
       "      <th>93708</th>\n",
       "      <td>New video shows moments before man dragged off...</td>\n",
       "      <td>Newly-released footage shows 69-year-old Unite...</td>\n",
       "    </tr>\n",
       "    <tr>\n",
       "      <th>47108</th>\n",
       "      <td>Want to make UP most developed state in India:...</td>\n",
       "      <td>Talking in an interview about his vision for U...</td>\n",
       "    </tr>\n",
       "    <tr>\n",
       "      <th>66613</th>\n",
       "      <td>Toyota to unveil toolbox-like concept car</td>\n",
       "      <td>Automobile manufacturer Toyota will unveil its...</td>\n",
       "    </tr>\n",
       "    <tr>\n",
       "      <th>82649</th>\n",
       "      <td>GST to push economic growth to 7.3% in 2017-18...</td>\n",
       "      <td>The Financial Stability Report released by Res...</td>\n",
       "    </tr>\n",
       "    <tr>\n",
       "      <th>13966</th>\n",
       "      <td>Haley is going to make lot of money in her new...</td>\n",
       "      <td>Praising outgoing US envoy to the UN Nikki Hal...</td>\n",
       "    </tr>\n",
       "    <tr>\n",
       "      <th>65698</th>\n",
       "      <td>Woman pledges $1.5bn for wildlife, almost half...</td>\n",
       "      <td>Chinese entrepreneur He Qiaonv has pledged $1....</td>\n",
       "    </tr>\n",
       "    <tr>\n",
       "      <th>18230</th>\n",
       "      <td>Railways warned about danger 6 weeks before Ko...</td>\n",
       "      <td>The Eastern Railways had informed Kolkata Metr...</td>\n",
       "    </tr>\n",
       "    <tr>\n",
       "      <th>73686</th>\n",
       "      <td>1.7L Delhi school kids don't have uniform, wri...</td>\n",
       "      <td>Almost 1.7 lakh out of the 7.6 lakh students e...</td>\n",
       "    </tr>\n",
       "    <tr>\n",
       "      <th>38980</th>\n",
       "      <td>Violence led to loss of Ã¢ÂÂ¹40,000 per perso...</td>\n",
       "      <td>The impact of violence in 2017 led to a loss o...</td>\n",
       "    </tr>\n",
       "    <tr>\n",
       "      <th>56428</th>\n",
       "      <td>Notice issued to Rahul Gandhi, not FIR: Electi...</td>\n",
       "      <td>The Election Commission (EC) on Thursday clari...</td>\n",
       "    </tr>\n",
       "  </tbody>\n",
       "</table>\n",
       "</div>"
      ],
      "text/plain": [
       "                                               headlines  \\\n",
       "93708  New video shows moments before man dragged off...   \n",
       "47108  Want to make UP most developed state in India:...   \n",
       "66613          Toyota to unveil toolbox-like concept car   \n",
       "82649  GST to push economic growth to 7.3% in 2017-18...   \n",
       "13966  Haley is going to make lot of money in her new...   \n",
       "65698  Woman pledges $1.5bn for wildlife, almost half...   \n",
       "18230  Railways warned about danger 6 weeks before Ko...   \n",
       "73686  1.7L Delhi school kids don't have uniform, wri...   \n",
       "38980  Violence led to loss of Ã¢ÂÂ¹40,000 per perso...   \n",
       "56428  Notice issued to Rahul Gandhi, not FIR: Electi...   \n",
       "\n",
       "                                                    text  \n",
       "93708  Newly-released footage shows 69-year-old Unite...  \n",
       "47108  Talking in an interview about his vision for U...  \n",
       "66613  Automobile manufacturer Toyota will unveil its...  \n",
       "82649  The Financial Stability Report released by Res...  \n",
       "13966  Praising outgoing US envoy to the UN Nikki Hal...  \n",
       "65698  Chinese entrepreneur He Qiaonv has pledged $1....  \n",
       "18230  The Eastern Railways had informed Kolkata Metr...  \n",
       "73686  Almost 1.7 lakh out of the 7.6 lakh students e...  \n",
       "38980  The impact of violence in 2017 led to a loss o...  \n",
       "56428  The Election Commission (EC) on Thursday clari...  "
      ]
     },
     "execution_count": 4,
     "metadata": {},
     "output_type": "execute_result"
    }
   ],
   "source": [
    "data.sample(10)"
   ]
  },
  {
   "cell_type": "markdown",
   "id": "digital-hamilton",
   "metadata": {},
   "source": [
    "## Step 2. 데이터 전처리하기 (추상적 요약)"
   ]
  },
  {
   "cell_type": "markdown",
   "id": "important-small",
   "metadata": {},
   "source": [
    "### 2-1. 중복 샘플과 NULL 값이 존재하는 샘플 제거"
   ]
  },
  {
   "cell_type": "code",
   "execution_count": 5,
   "id": "oriental-eclipse",
   "metadata": {},
   "outputs": [
    {
     "name": "stdout",
     "output_type": "stream",
     "text": [
      "headlines 열에서 중복을 배제한 유일한 샘플의 수 : 98280\n",
      "text 열에서 중복을 배제한 유일한 샘플의 수 : 98360\n"
     ]
    }
   ],
   "source": [
    "# 데이터의 중복 샘플 유무를 확인\n",
    "\n",
    "print('headlines 열에서 중복을 배제한 유일한 샘플의 수 :', data['headlines'].nunique())\n",
    "print('text 열에서 중복을 배제한 유일한 샘플의 수 :', data['text'].nunique())"
   ]
  },
  {
   "cell_type": "code",
   "execution_count": 6,
   "id": "curious-situation",
   "metadata": {},
   "outputs": [
    {
     "name": "stdout",
     "output_type": "stream",
     "text": [
      "전체 샘플수 : 98360\n"
     ]
    }
   ],
   "source": [
    "# drop_duplicates()를 통한 중복 샘플 제거\n",
    "\n",
    "data.drop_duplicates(subset = ['text'], inplace=True)\n",
    "print(f'전체 샘플수 : {len(data)}')"
   ]
  },
  {
   "cell_type": "code",
   "execution_count": 7,
   "id": "corresponding-borough",
   "metadata": {},
   "outputs": [
    {
     "name": "stdout",
     "output_type": "stream",
     "text": [
      "headlines    0\n",
      "text         0\n",
      "dtype: int64\n"
     ]
    }
   ],
   "source": [
    "# 데이터프레임에 Null 값이 있는지 확인\n",
    "\n",
    "print(data.isnull().sum())"
   ]
  },
  {
   "cell_type": "markdown",
   "id": "bright-prediction",
   "metadata": {},
   "source": [
    "### 2-2. 텍스트 정규화와 불용어 제거"
   ]
  },
  {
   "cell_type": "code",
   "execution_count": 8,
   "id": "normal-store",
   "metadata": {},
   "outputs": [
    {
     "name": "stdout",
     "output_type": "stream",
     "text": [
      "정규화 사전의 수:  120\n"
     ]
    }
   ],
   "source": [
    "# 텍스트 정규화를 위한 사전(dictionary)\n",
    "\n",
    "contractions = {\"ain't\": \"is not\", \"aren't\": \"are not\",\"can't\": \"cannot\", \"'cause\": \"because\", \"could've\": \"could have\", \"couldn't\": \"could not\",\n",
    "                           \"didn't\": \"did not\",  \"doesn't\": \"does not\", \"don't\": \"do not\", \"hadn't\": \"had not\", \"hasn't\": \"has not\", \"haven't\": \"have not\",\n",
    "                           \"he'd\": \"he would\",\"he'll\": \"he will\", \"he's\": \"he is\", \"how'd\": \"how did\", \"how'd'y\": \"how do you\", \"how'll\": \"how will\", \"how's\": \"how is\",\n",
    "                           \"I'd\": \"I would\", \"I'd've\": \"I would have\", \"I'll\": \"I will\", \"I'll've\": \"I will have\",\"I'm\": \"I am\", \"I've\": \"I have\", \"i'd\": \"i would\",\n",
    "                           \"i'd've\": \"i would have\", \"i'll\": \"i will\",  \"i'll've\": \"i will have\",\"i'm\": \"i am\", \"i've\": \"i have\", \"isn't\": \"is not\", \"it'd\": \"it would\",\n",
    "                           \"it'd've\": \"it would have\", \"it'll\": \"it will\", \"it'll've\": \"it will have\",\"it's\": \"it is\", \"let's\": \"let us\", \"ma'am\": \"madam\",\n",
    "                           \"mayn't\": \"may not\", \"might've\": \"might have\",\"mightn't\": \"might not\",\"mightn't've\": \"might not have\", \"must've\": \"must have\",\n",
    "                           \"mustn't\": \"must not\", \"mustn't've\": \"must not have\", \"needn't\": \"need not\", \"needn't've\": \"need not have\",\"o'clock\": \"of the clock\",\n",
    "                           \"oughtn't\": \"ought not\", \"oughtn't've\": \"ought not have\", \"shan't\": \"shall not\", \"sha'n't\": \"shall not\", \"shan't've\": \"shall not have\",\n",
    "                           \"she'd\": \"she would\", \"she'd've\": \"she would have\", \"she'll\": \"she will\", \"she'll've\": \"she will have\", \"she's\": \"she is\",\n",
    "                           \"should've\": \"should have\", \"shouldn't\": \"should not\", \"shouldn't've\": \"should not have\", \"so've\": \"so have\",\"so's\": \"so as\",\n",
    "                           \"this's\": \"this is\",\"that'd\": \"that would\", \"that'd've\": \"that would have\", \"that's\": \"that is\", \"there'd\": \"there would\",\n",
    "                           \"there'd've\": \"there would have\", \"there's\": \"there is\", \"here's\": \"here is\",\"they'd\": \"they would\", \"they'd've\": \"they would have\",\n",
    "                           \"they'll\": \"they will\", \"they'll've\": \"they will have\", \"they're\": \"they are\", \"they've\": \"they have\", \"to've\": \"to have\",\n",
    "                           \"wasn't\": \"was not\", \"we'd\": \"we would\", \"we'd've\": \"we would have\", \"we'll\": \"we will\", \"we'll've\": \"we will have\", \"we're\": \"we are\",\n",
    "                           \"we've\": \"we have\", \"weren't\": \"were not\", \"what'll\": \"what will\", \"what'll've\": \"what will have\", \"what're\": \"what are\",\n",
    "                           \"what's\": \"what is\", \"what've\": \"what have\", \"when's\": \"when is\", \"when've\": \"when have\", \"where'd\": \"where did\", \"where's\": \"where is\",\n",
    "                           \"where've\": \"where have\", \"who'll\": \"who will\", \"who'll've\": \"who will have\", \"who's\": \"who is\", \"who've\": \"who have\",\n",
    "                           \"why's\": \"why is\", \"why've\": \"why have\", \"will've\": \"will have\", \"won't\": \"will not\", \"won't've\": \"will not have\",\n",
    "                           \"would've\": \"would have\", \"wouldn't\": \"would not\", \"wouldn't've\": \"would not have\", \"y'all\": \"you all\",\n",
    "                           \"y'all'd\": \"you all would\",\"y'all'd've\": \"you all would have\",\"y'all're\": \"you all are\",\"y'all've\": \"you all have\",\n",
    "                           \"you'd\": \"you would\", \"you'd've\": \"you would have\", \"you'll\": \"you will\", \"you'll've\": \"you will have\",\n",
    "                           \"you're\": \"you are\", \"you've\": \"you have\"}\n",
    "\n",
    "print(\"정규화 사전의 수: \", len(contractions))"
   ]
  },
  {
   "cell_type": "code",
   "execution_count": 9,
   "id": "returning-drinking",
   "metadata": {},
   "outputs": [
    {
     "name": "stdout",
     "output_type": "stream",
     "text": [
      "불용어 개수 : 179\n",
      "['i', 'me', 'my', 'myself', 'we', 'our', 'ours', 'ourselves', 'you', \"you're\", \"you've\", \"you'll\", \"you'd\", 'your', 'yours', 'yourself', 'yourselves', 'he', 'him', 'his', 'himself', 'she', \"she's\", 'her', 'hers', 'herself', 'it', \"it's\", 'its', 'itself', 'they', 'them', 'their', 'theirs', 'themselves', 'what', 'which', 'who', 'whom', 'this', 'that', \"that'll\", 'these', 'those', 'am', 'is', 'are', 'was', 'were', 'be', 'been', 'being', 'have', 'has', 'had', 'having', 'do', 'does', 'did', 'doing', 'a', 'an', 'the', 'and', 'but', 'if', 'or', 'because', 'as', 'until', 'while', 'of', 'at', 'by', 'for', 'with', 'about', 'against', 'between', 'into', 'through', 'during', 'before', 'after', 'above', 'below', 'to', 'from', 'up', 'down', 'in', 'out', 'on', 'off', 'over', 'under', 'again', 'further', 'then', 'once', 'here', 'there', 'when', 'where', 'why', 'how', 'all', 'any', 'both', 'each', 'few', 'more', 'most', 'other', 'some', 'such', 'no', 'nor', 'not', 'only', 'own', 'same', 'so', 'than', 'too', 'very', 's', 't', 'can', 'will', 'just', 'don', \"don't\", 'should', \"should've\", 'now', 'd', 'll', 'm', 'o', 're', 've', 'y', 'ain', 'aren', \"aren't\", 'couldn', \"couldn't\", 'didn', \"didn't\", 'doesn', \"doesn't\", 'hadn', \"hadn't\", 'hasn', \"hasn't\", 'haven', \"haven't\", 'isn', \"isn't\", 'ma', 'mightn', \"mightn't\", 'mustn', \"mustn't\", 'needn', \"needn't\", 'shan', \"shan't\", 'shouldn', \"shouldn't\", 'wasn', \"wasn't\", 'weren', \"weren't\", 'won', \"won't\", 'wouldn', \"wouldn't\"]\n"
     ]
    }
   ],
   "source": [
    "# NLTK에서 제공하는 불용어 리스트를 참조해, 샘플에서 불용어를 제거한다.\n",
    "\n",
    "print('불용어 개수 :', len(stopwords.words('english')))\n",
    "print(stopwords.words('english'))"
   ]
  },
  {
   "cell_type": "code",
   "execution_count": 10,
   "id": "nominated-organ",
   "metadata": {},
   "outputs": [],
   "source": [
    "# 데이터 전처리 함수\n",
    "def preprocess_sentence(sentence, remove_stopwords=True):\n",
    "    sentence = sentence.lower() # 텍스트 소문자화\n",
    "    sentence = BeautifulSoup(sentence, \"lxml\").text # <br />, <a href = ...> 등의 html 태그 제거\n",
    "    sentence = re.sub(r'\\([^)]*\\)', '', sentence) # 괄호로 닫힌 문자열 (...) 제거 Ex) my husband (and myself!) for => my husband for\n",
    "    sentence = re.sub('\"','', sentence) # 쌍따옴표 \" 제거\n",
    "    sentence = ' '.join([contractions[t] if t in contractions else t for t in sentence.split(\" \")]) # 약어 정규화\n",
    "    sentence = re.sub(r\"'s\\b\",\"\", sentence) # 소유격 제거. Ex) roland's -> roland\n",
    "    sentence = re.sub(\"[^a-zA-Z]\", \" \", sentence) # 영어 외 문자(숫자, 특수문자 등) 공백으로 변환\n",
    "    sentence = re.sub('[m]{2,}', 'mm', sentence) # m이 3개 이상이면 2개로 변경. Ex) ummmmmmm yeah -> umm yeah\n",
    "    \n",
    "    # 불용어 제거 (Text)\n",
    "    if remove_stopwords:\n",
    "        tokens = ' '.join(word for word in sentence.split() if not word in stopwords.words('english') if len(word) > 1)\n",
    "    # 불용어 미제거 (Summary)\n",
    "    else:\n",
    "        tokens = ' '.join(word for word in sentence.split() if len(word) > 1)\n",
    "    return tokens"
   ]
  },
  {
   "cell_type": "code",
   "execution_count": 12,
   "id": "weird-printer",
   "metadata": {},
   "outputs": [
    {
     "name": "stdout",
     "output_type": "stream",
     "text": [
      "178.49035120010376  seconds\n",
      "['saurav kant alumnus upgrad iiit pg program machine learning artificial intelligence sr systems engineer infosys almost years work experience program upgrad degree career support helped transition data scientist tech mahindra salary hike upgrad online power learning powered lakh careers'\n",
      " 'kunal shah credit card bill payment platform cred gave users chance win free food swiggy one year pranav kaushik delhi techie bagged reward spending cred coins users get one cred coin per rupee bill paid used avail rewards brands like ixigo bookmyshow ubereats cult fit'\n",
      " 'new zealand defeated india wickets fourth odi hamilton thursday win first match five match odi series india lost international match rohit sharma captaincy consecutive victories dating back march match witnessed india getting seventh lowest total odi cricket history'\n",
      " ...\n",
      " 'according reports new version science fiction film matrix development michael jordan reportedly play lead role film screenwriter zak penn talks write script film reports added actor keanu reeves starred original film followed two sequels'\n",
      " 'new music video shows rapper snoop dogg aiming toy gun clown character parodying us president donald trump video also shows tv airing news conference headline ronald klump wants deport doggs airing live clown house video remixed version song lavender'\n",
      " 'madhesi morcha alliance seven political parties withdrawn support pm pushpa kamal dahal led nepal government failed meet seven day ultimatum fulfil demands including endorsement revised constitution amendment bill morcha seats parliament despite withdrawal support immediate threat government']\n",
      "5.774164915084839  seconds\n",
      "['upgrad learner switches to career in ml al with salary hike'\n",
      " 'delhi techie wins free food from swiggy for one year on cred'\n",
      " 'new zealand end rohit sharma led india match winning streak' ...\n",
      " 'the matrix film to get reboot reports'\n",
      " 'snoop dogg aims gun at clown dressed as trump in new video'\n",
      " 'madhesi morcha withdraws support to nepalese government']\n"
     ]
    }
   ],
   "source": [
    "import multiprocessing as mp   # 멀티 프로세싱으로 전처리 속도를 획기적으로 줄여봅시다\n",
    "from multiprocessing import Pool\n",
    "import numpy as np\n",
    "import time\n",
    "from functools import partial  # map을 할 때 함수에 여러 인자를 넣어줄 수 있도록 합니다\n",
    "\n",
    "start = time.time()\n",
    "\n",
    "# num_cores 만큼 쪼개진 데이터를 전처리하여 반환합니다\n",
    "def appendTexts(sentences, remove_stopwords):\n",
    "  texts = []\n",
    "  for s in sentences:\n",
    "    texts += preprocess_sentence(s, remove_stopwords),\n",
    "  return texts\n",
    "\n",
    "def preprocess_data(data, remove_stopwords=True):\n",
    "  start_time = time.time()\n",
    "  num_cores = mp.cpu_count()  # 컴퓨터의 코어 수를 구합니다\n",
    "\n",
    "  text_data_split = np.array_split(data, num_cores)  # 코어 수만큼 데이터를 배분하여 병렬적으로 처리할 수 있게 합니다\n",
    "  pool = Pool(num_cores)\n",
    "\n",
    "  processed_data = np.concatenate(pool.map(partial(appendTexts, remove_stopwords=remove_stopwords), text_data_split))  # 각자 작업한 데이터를 하나로 합쳐줍니다\n",
    "  pool.close()\n",
    "  pool.join()\n",
    "  print(time.time() - start_time, \" seconds\")\n",
    "  return processed_data\n",
    "\n",
    "clean_text = preprocess_data(data['text'])\n",
    "print(clean_text)\n",
    "\n",
    "clean_headlines = preprocess_data(data['headlines'], remove_stopwords=False) \n",
    "print(clean_headlines)"
   ]
  },
  {
   "cell_type": "code",
   "execution_count": 13,
   "id": "proof-academy",
   "metadata": {},
   "outputs": [],
   "source": [
    "# 보다 쉽게 확인하기 위해 데이터들을 데이터프레임에 재저장한다. \n",
    "# 그리고 빈(empty) 값을 가진 샘플들이 있다면, 모두 Null 값을 가진 샘플로 대체한다.\n",
    "\n",
    "data['text'] = clean_text\n",
    "data['headlines'] = clean_headlines\n",
    "\n",
    "# 빈 값을 Null 값으로 변환\n",
    "data.replace('', np.nan, inplace=True)"
   ]
  },
  {
   "cell_type": "code",
   "execution_count": 14,
   "id": "advance-provider",
   "metadata": {},
   "outputs": [
    {
     "data": {
      "text/plain": [
       "headlines    0\n",
       "text         0\n",
       "dtype: int64"
      ]
     },
     "execution_count": 14,
     "metadata": {},
     "output_type": "execute_result"
    }
   ],
   "source": [
    "data.isnull().sum()"
   ]
  },
  {
   "cell_type": "markdown",
   "id": "wooden-teacher",
   "metadata": {},
   "source": [
    "### 2-3. 훈련데이터와 테스트데이터 나누기"
   ]
  },
  {
   "cell_type": "code",
   "execution_count": 15,
   "id": "little-planning",
   "metadata": {},
   "outputs": [
    {
     "name": "stdout",
     "output_type": "stream",
     "text": [
      "텍스트의 최소 길이 : 1\n",
      "텍스트의 최대 길이 : 60\n",
      "텍스트의 평균 길이 : 35.09968483123221\n",
      "요약의 최소 길이 : 1\n",
      "요약의 최대 길이 : 16\n",
      "요약의 평균 길이 : 9.299532330215534\n"
     ]
    },
    {
     "data": {
      "image/png": "[encoded data removed]",
      "text/plain": [
       "<Figure size 432x288 with 2 Axes>"
      ]
     },
     "metadata": {
      "needs_background": "light"
     },
     "output_type": "display_data"
    },
    {
     "data": {
      "image/png": "[encoded data removed]",
      "text/plain": [
       "<Figure size 432x288 with 1 Axes>"
      ]
     },
     "metadata": {
      "needs_background": "light"
     },
     "output_type": "display_data"
    },
    {
     "data": {
      "image/png": "[encoded data removed]",
      "text/plain": [
       "<Figure size 432x288 with 1 Axes>"
      ]
     },
     "metadata": {
      "needs_background": "light"
     },
     "output_type": "display_data"
    }
   ],
   "source": [
    "# Text와 Summary의 최소, 최대, 평균 길이를 구하고 또한 길이 분포를 시각화해서 본다.\n",
    "# 길이 분포 출력\n",
    "\n",
    "text_len = [len(s.split()) for s in data['text']]\n",
    "headlines_len = [len(s.split()) for s in data['headlines']]\n",
    "\n",
    "print('텍스트의 최소 길이 : {}'.format(np.min(text_len)))\n",
    "print('텍스트의 최대 길이 : {}'.format(np.max(text_len)))\n",
    "print('텍스트의 평균 길이 : {}'.format(np.mean(text_len)))\n",
    "print('요약의 최소 길이 : {}'.format(np.min(headlines_len)))\n",
    "print('요약의 최대 길이 : {}'.format(np.max(headlines_len)))\n",
    "print('요약의 평균 길이 : {}'.format(np.mean(headlines_len)))\n",
    "\n",
    "plt.subplot(1,2,1)\n",
    "plt.boxplot(headlines_len)\n",
    "plt.title('Headlines')\n",
    "plt.subplot(1,2,2)\n",
    "plt.boxplot(text_len)\n",
    "plt.title('Text')\n",
    "plt.tight_layout()\n",
    "plt.show()\n",
    "\n",
    "plt.title('Headlines')\n",
    "plt.hist(headlines_len, bins = 40)\n",
    "plt.xlabel('length of samples')\n",
    "plt.ylabel('number of samples')\n",
    "plt.show()\n",
    "\n",
    "plt.title('Text')\n",
    "plt.hist(text_len, bins = 40)\n",
    "plt.xlabel('length of samples')\n",
    "plt.ylabel('number of samples')\n",
    "plt.show()\n"
   ]
  },
  {
   "cell_type": "code",
   "execution_count": 19,
   "id": "protective-clear",
   "metadata": {},
   "outputs": [],
   "source": [
    "# Text의 최대 길이와 Summary의 적절한 최대 길이를 임의로 정해본다.\n",
    "\n",
    "text_max_len = 40\n",
    "headlines_max_len = 11"
   ]
  },
  {
   "cell_type": "code",
   "execution_count": 17,
   "id": "vocal-johnston",
   "metadata": {},
   "outputs": [],
   "source": [
    "def below_threshold_len(max_len, nested_list):\n",
    "    cnt = 0\n",
    "    for s in nested_list:\n",
    "        if(len(s.split()) <= max_len):\n",
    "            cnt += 1\n",
    "    print('전체 샘플 중 길이가 %s 이하인 샘플의 비율: %s'%(max_len, (cnt / len(nested_list))))"
   ]
  },
  {
   "cell_type": "code",
   "execution_count": 20,
   "id": "gentle-sigma",
   "metadata": {},
   "outputs": [
    {
     "name": "stdout",
     "output_type": "stream",
     "text": [
      "전체 샘플 중 길이가 40 이하인 샘플의 비율: 0.9238714924766165\n",
      "전체 샘플 중 길이가 11 이하인 샘플의 비율: 0.9449877999186661\n"
     ]
    }
   ],
   "source": [
    "below_threshold_len(text_max_len, data['text'])\n",
    "below_threshold_len(headlines_max_len, data['headlines'])"
   ]
  },
  {
   "cell_type": "code",
   "execution_count": 21,
   "id": "express-cemetery",
   "metadata": {},
   "outputs": [
    {
     "name": "stdout",
     "output_type": "stream",
     "text": [
      "전체 샘플수 : 85843\n"
     ]
    }
   ],
   "source": [
    "# 정해진 길이에 맞춰 자르는 것이 아니라, 정해진 길이보다 길면 제외하는 방법으로 데이터를 정제한다.\n",
    "\n",
    "data = data[data['text'].apply(lambda x: len(x.split()) <= text_max_len)]\n",
    "data = data[data['headlines'].apply(lambda x: len(x.split()) <= headlines_max_len)]\n",
    "print('전체 샘플수 :', (len(data)))"
   ]
  },
  {
   "cell_type": "markdown",
   "id": "artificial-columbus",
   "metadata": {},
   "source": [
    "### 2-4. 시작 토큰과 종료 토큰 추가하기"
   ]
  },
  {
   "cell_type": "code",
   "execution_count": 22,
   "id": "compressed-enlargement",
   "metadata": {},
   "outputs": [
    {
     "data": {
      "text/html": [
       "<div>\n",
       "<style scoped>\n",
       "    .dataframe tbody tr th:only-of-type {\n",
       "        vertical-align: middle;\n",
       "    }\n",
       "\n",
       "    .dataframe tbody tr th {\n",
       "        vertical-align: top;\n",
       "    }\n",
       "\n",
       "    .dataframe thead th {\n",
       "        text-align: right;\n",
       "    }\n",
       "</style>\n",
       "<table border=\"1\" class=\"dataframe\">\n",
       "  <thead>\n",
       "    <tr style=\"text-align: right;\">\n",
       "      <th></th>\n",
       "      <th>headlines</th>\n",
       "      <th>text</th>\n",
       "      <th>decoder_input</th>\n",
       "      <th>decoder_target</th>\n",
       "    </tr>\n",
       "  </thead>\n",
       "  <tbody>\n",
       "    <tr>\n",
       "      <th>0</th>\n",
       "      <td>upgrad learner switches to career in ml al wit...</td>\n",
       "      <td>saurav kant alumnus upgrad iiit pg program mac...</td>\n",
       "      <td>sostoken upgrad learner switches to career in ...</td>\n",
       "      <td>upgrad learner switches to career in ml al wit...</td>\n",
       "    </tr>\n",
       "    <tr>\n",
       "      <th>2</th>\n",
       "      <td>new zealand end rohit sharma led india match w...</td>\n",
       "      <td>new zealand defeated india wickets fourth odi ...</td>\n",
       "      <td>sostoken new zealand end rohit sharma led indi...</td>\n",
       "      <td>new zealand end rohit sharma led india match w...</td>\n",
       "    </tr>\n",
       "    <tr>\n",
       "      <th>3</th>\n",
       "      <td>aegon life iterm insurance plan helps customer...</td>\n",
       "      <td>aegon life iterm insurance plan customers enjo...</td>\n",
       "      <td>sostoken aegon life iterm insurance plan helps...</td>\n",
       "      <td>aegon life iterm insurance plan helps customer...</td>\n",
       "    </tr>\n",
       "    <tr>\n",
       "      <th>5</th>\n",
       "      <td>rahat fateh ali khan denies getting notice for...</td>\n",
       "      <td>pakistani singer rahat fateh ali khan denied r...</td>\n",
       "      <td>sostoken rahat fateh ali khan denies getting n...</td>\n",
       "      <td>rahat fateh ali khan denies getting notice for...</td>\n",
       "    </tr>\n",
       "    <tr>\n",
       "      <th>7</th>\n",
       "      <td>govt directs alok verma to join work day befor...</td>\n",
       "      <td>weeks ex cbi director alok verma told departme...</td>\n",
       "      <td>sostoken govt directs alok verma to join work ...</td>\n",
       "      <td>govt directs alok verma to join work day befor...</td>\n",
       "    </tr>\n",
       "  </tbody>\n",
       "</table>\n",
       "</div>"
      ],
      "text/plain": [
       "                                           headlines  \\\n",
       "0  upgrad learner switches to career in ml al wit...   \n",
       "2  new zealand end rohit sharma led india match w...   \n",
       "3  aegon life iterm insurance plan helps customer...   \n",
       "5  rahat fateh ali khan denies getting notice for...   \n",
       "7  govt directs alok verma to join work day befor...   \n",
       "\n",
       "                                                text  \\\n",
       "0  saurav kant alumnus upgrad iiit pg program mac...   \n",
       "2  new zealand defeated india wickets fourth odi ...   \n",
       "3  aegon life iterm insurance plan customers enjo...   \n",
       "5  pakistani singer rahat fateh ali khan denied r...   \n",
       "7  weeks ex cbi director alok verma told departme...   \n",
       "\n",
       "                                       decoder_input  \\\n",
       "0  sostoken upgrad learner switches to career in ...   \n",
       "2  sostoken new zealand end rohit sharma led indi...   \n",
       "3  sostoken aegon life iterm insurance plan helps...   \n",
       "5  sostoken rahat fateh ali khan denies getting n...   \n",
       "7  sostoken govt directs alok verma to join work ...   \n",
       "\n",
       "                                      decoder_target  \n",
       "0  upgrad learner switches to career in ml al wit...  \n",
       "2  new zealand end rohit sharma led india match w...  \n",
       "3  aegon life iterm insurance plan helps customer...  \n",
       "5  rahat fateh ali khan denies getting notice for...  \n",
       "7  govt directs alok verma to join work day befor...  "
      ]
     },
     "execution_count": 22,
     "metadata": {},
     "output_type": "execute_result"
    }
   ],
   "source": [
    "# 시작 토큰은 sostoken, 종료 토큰은 eostoken이라 임의로 명명하고 앞, 뒤로 추가할 것이다.\n",
    "# 요약 데이터에는 시작 토큰과 종료 토큰을 추가한다.\n",
    "\n",
    "data['decoder_input'] = data['headlines'].apply(lambda x : 'sostoken '+ x)\n",
    "data['decoder_target'] = data['headlines'].apply(lambda x : x + ' eostoken')\n",
    "data.head()"
   ]
  },
  {
   "cell_type": "code",
   "execution_count": 23,
   "id": "moderate-fountain",
   "metadata": {},
   "outputs": [],
   "source": [
    "encoder_input = np.array(data['text']) # 인코더의 입력\n",
    "decoder_input = np.array(data['decoder_input']) # 디코더의 입력\n",
    "decoder_target = np.array(data['decoder_target']) # 디코더의 레이블"
   ]
  },
  {
   "cell_type": "code",
   "execution_count": 24,
   "id": "central-wright",
   "metadata": {},
   "outputs": [
    {
     "name": "stdout",
     "output_type": "stream",
     "text": [
      "[48817 49900 41033 ... 62006 58048 39387]\n"
     ]
    }
   ],
   "source": [
    "# 훈련 데이터와 테스트 데이터를 분리한다.\n",
    "# encoder_input과 크기와 형태가 같은 순서가 섞인 정수 시퀀스를 만들어준다.\n",
    "\n",
    "indices = np.arange(encoder_input.shape[0])\n",
    "np.random.shuffle(indices)\n",
    "print(indices)"
   ]
  },
  {
   "cell_type": "code",
   "execution_count": 25,
   "id": "underlying-interference",
   "metadata": {},
   "outputs": [],
   "source": [
    "# 이 정수 시퀀스를 이용해 다시 데이터의 샘플 순서를 정의해 주면 잘 섞인 샘플이 된다.\n",
    "\n",
    "encoder_input = encoder_input[indices]\n",
    "decoder_input = decoder_input[indices]\n",
    "decoder_target = decoder_target[indices]"
   ]
  },
  {
   "cell_type": "code",
   "execution_count": 26,
   "id": "automated-mechanics",
   "metadata": {},
   "outputs": [
    {
     "name": "stdout",
     "output_type": "stream",
     "text": [
      "테스트 데이터의 수 : 17168\n"
     ]
    }
   ],
   "source": [
    "# 섞인 데이터를 8:2의 비율로 훈련 데이터와 테스트 데이터로 분리한다.\n",
    "\n",
    "n_of_val = int(len(encoder_input)*0.2)\n",
    "print('테스트 데이터의 수 :', n_of_val)"
   ]
  },
  {
   "cell_type": "code",
   "execution_count": 27,
   "id": "equipped-execution",
   "metadata": {},
   "outputs": [
    {
     "name": "stdout",
     "output_type": "stream",
     "text": [
      "훈련 데이터의 개수 : 68675\n",
      "훈련 레이블의 개수 : 68675\n",
      "테스트 데이터의 개수 : 17168\n",
      "테스트 레이블의 개수 : 17168\n"
     ]
    }
   ],
   "source": [
    "# 정의한 테스트 데이터의 개수를 이용해 전체 데이터를 양분한다.\n",
    "\n",
    "encoder_input_train = encoder_input[:-n_of_val]\n",
    "decoder_input_train = decoder_input[:-n_of_val]\n",
    "decoder_target_train = decoder_target[:-n_of_val]\n",
    "\n",
    "encoder_input_test = encoder_input[-n_of_val:]\n",
    "decoder_input_test = decoder_input[-n_of_val:]\n",
    "decoder_target_test = decoder_target[-n_of_val:]\n",
    "\n",
    "print('훈련 데이터의 개수 :', len(encoder_input_train))\n",
    "print('훈련 레이블의 개수 :', len(decoder_input_train))\n",
    "print('테스트 데이터의 개수 :', len(encoder_input_test))\n",
    "print('테스트 레이블의 개수 :', len(decoder_input_test))"
   ]
  },
  {
   "cell_type": "markdown",
   "id": "changed-feature",
   "metadata": {},
   "source": [
    "### 2-5. 정수 인코딩"
   ]
  },
  {
   "cell_type": "code",
   "execution_count": 28,
   "id": "healthy-dodge",
   "metadata": {},
   "outputs": [],
   "source": [
    "# 기계가 텍스트를 숫자로 처리할 수 있도록 훈련 데이터와 테스트 데이터의 단어들을 모두 정수로 바꾸어 주어야 한다.\n",
    "# Keras의 토크나이저를 사용하면, 입력된 훈련 데이터로부터 단어 집합을 만들 수 있다.\n",
    "\n",
    "src_tokenizer = Tokenizer() # 토크나이저 정의\n",
    "src_tokenizer.fit_on_texts(encoder_input_train) # 입력된 데이터로부터 단어 집합 생성\n",
    "                                                # 단어 집합이 생성되는 동시에 각 단어에 고유한 정수가 부여\n",
    "                                                # 생성된 단어 집합은 src_tokenizer.word_index에 저장"
   ]
  },
  {
   "cell_type": "code",
   "execution_count": 29,
   "id": "chronic-float",
   "metadata": {},
   "outputs": [
    {
     "name": "stdout",
     "output_type": "stream",
     "text": [
      "단어 집합(vocabulary)의 크기 : 64687\n",
      "등장 빈도가 6번 이하인 희귀 단어의 수: 44133\n",
      "단어 집합에서 희귀 단어를 제외시킬 경우의 단어 집합의 크기 20554\n",
      "단어 집합에서 희귀 단어의 비율: 68.22545488274305\n",
      "전체 등장 빈도에서 희귀 단어 등장 빈도 비율: 3.7826780097407005\n"
     ]
    }
   ],
   "source": [
    "# 빈도수가 낮은 단어들은 훈련 데이터에서 제외하고 진행\n",
    "# src_tokenizer.word_counts.items()에는 단어와 각 단어의 등장 빈도수가 저장돼 있는데, 이를 통해서 통계적인 정보를 얻을 수 있다.\n",
    "\n",
    "threshold = 7\n",
    "total_cnt = len(src_tokenizer.word_index) # 단어의 수\n",
    "rare_cnt = 0 # 등장 빈도수가 threshold보다 작은 단어의 개수를 카운트\n",
    "total_freq = 0 # 훈련 데이터의 전체 단어 빈도수 총 합\n",
    "rare_freq = 0 # 등장 빈도수가 threshold보다 작은 단어의 등장 빈도수의 총 합\n",
    "\n",
    "# 단어와 빈도수의 쌍(pair)을 key와 value로 받는다.\n",
    "for key, value in src_tokenizer.word_counts.items():\n",
    "    total_freq = total_freq + value\n",
    "\n",
    "    # 단어의 등장 빈도수가 threshold보다 작으면\n",
    "    if(value < threshold):\n",
    "        rare_cnt = rare_cnt + 1\n",
    "        rare_freq = rare_freq + value\n",
    "\n",
    "print('단어 집합(vocabulary)의 크기 :', total_cnt)\n",
    "print('등장 빈도가 %s번 이하인 희귀 단어의 수: %s'%(threshold - 1, rare_cnt))\n",
    "print('단어 집합에서 희귀 단어를 제외시킬 경우의 단어 집합의 크기 %s'%(total_cnt - rare_cnt))\n",
    "print(\"단어 집합에서 희귀 단어의 비율:\", (rare_cnt / total_cnt)*100)\n",
    "print(\"전체 등장 빈도에서 희귀 단어 등장 빈도 비율:\", (rare_freq / total_freq)*100)"
   ]
  },
  {
   "cell_type": "code",
   "execution_count": 30,
   "id": "derived-protection",
   "metadata": {},
   "outputs": [],
   "source": [
    "src_vocab = 20000\n",
    "src_tokenizer = Tokenizer(num_words=src_vocab) # 단어 집합의 크기를 20,000으로 제한\n",
    "src_tokenizer.fit_on_texts(encoder_input_train) # 단어 집합 재생성."
   ]
  },
  {
   "cell_type": "code",
   "execution_count": 31,
   "id": "weird-worry",
   "metadata": {},
   "outputs": [
    {
     "name": "stdout",
     "output_type": "stream",
     "text": [
      "[[212, 469, 255, 763, 2672, 959, 2641, 283, 19150, 54, 240, 46, 28, 240, 466, 88, 174, 166, 1093, 851, 199, 42, 19150, 29, 1649, 64, 70, 28, 4, 19150, 283, 2702, 104, 2158, 2039, 6500, 3042, 4001, 1245, 10054], [1283, 1963, 16998, 579, 624, 200, 647, 101, 1283, 1963, 448, 697, 4879, 100, 2658, 19, 1441, 697, 37, 6088, 2985, 99, 10307, 11, 49, 38, 829, 1963, 16998, 17950, 2070, 389], [45, 19, 944, 34, 155, 90, 219, 141, 2137, 71, 2032, 275, 417, 5589, 508, 455, 2083, 14159, 1101, 213, 83, 5526, 419, 3328, 3246, 499, 1707, 3198, 13591, 83, 275, 393, 29, 3]]\n"
     ]
    }
   ],
   "source": [
    "# texts_to_sequences()는 생성된 단어 집합에 기반하여 입력으로 주어진 텍스트 데이터의 단어들을 모두 정수로 변환하는 정수 인코딩을 수행한다.\n",
    "\n",
    "# 텍스트 시퀀스를 정수 시퀀스로 변환\n",
    "\n",
    "encoder_input_train = src_tokenizer.texts_to_sequences(encoder_input_train) \n",
    "encoder_input_test = src_tokenizer.texts_to_sequences(encoder_input_test)\n",
    "\n",
    "# 잘 진행되었는지 샘플 출력\n",
    "\n",
    "print(encoder_input_train[:3])\n"
   ]
  },
  {
   "cell_type": "code",
   "execution_count": 32,
   "id": "universal-border",
   "metadata": {},
   "outputs": [],
   "source": [
    "tar_tokenizer = Tokenizer()\n",
    "tar_tokenizer.fit_on_texts(decoder_input_train)"
   ]
  },
  {
   "cell_type": "code",
   "execution_count": 33,
   "id": "eight-uruguay",
   "metadata": {},
   "outputs": [
    {
     "name": "stdout",
     "output_type": "stream",
     "text": [
      "단어 집합(vocabulary)의 크기 : 28456\n",
      "등장 빈도가 5번 이하인 희귀 단어의 수: 18704\n",
      "단어 집합에서 희귀 단어를 제외시킬 경우의 단어 집합의 크기 9752\n",
      "단어 집합에서 희귀 단어의 비율: 65.72954737138038\n",
      "전체 등장 빈도에서 희귀 단어 등장 빈도 비율: 5.1481711560916406\n"
     ]
    }
   ],
   "source": [
    "threshold = 6\n",
    "total_cnt = len(tar_tokenizer.word_index) # 단어의 수\n",
    "rare_cnt = 0 # 등장 빈도수가 threshold보다 작은 단어의 개수를 카운트\n",
    "total_freq = 0 # 훈련 데이터의 전체 단어 빈도수 총 합\n",
    "rare_freq = 0 # 등장 빈도수가 threshold보다 작은 단어의 등장 빈도수의 총 합\n",
    "\n",
    "# 단어와 빈도수의 쌍(pair)을 key와 value로 받는다.\n",
    "for key, value in tar_tokenizer.word_counts.items():\n",
    "    total_freq = total_freq + value\n",
    "\n",
    "    # 단어의 등장 빈도수가 threshold보다 작으면\n",
    "    if(value < threshold):\n",
    "        rare_cnt = rare_cnt + 1\n",
    "        rare_freq = rare_freq + value\n",
    "\n",
    "print('단어 집합(vocabulary)의 크기 :', total_cnt)\n",
    "print('등장 빈도가 %s번 이하인 희귀 단어의 수: %s'%(threshold - 1, rare_cnt))\n",
    "print('단어 집합에서 희귀 단어를 제외시킬 경우의 단어 집합의 크기 %s'%(total_cnt - rare_cnt))\n",
    "print(\"단어 집합에서 희귀 단어의 비율:\", (rare_cnt / total_cnt)*100)\n",
    "print(\"전체 등장 빈도에서 희귀 단어 등장 빈도 비율:\", (rare_freq / total_freq)*100)"
   ]
  },
  {
   "cell_type": "code",
   "execution_count": 34,
   "id": "inclusive-assault",
   "metadata": {},
   "outputs": [
    {
     "name": "stdout",
     "output_type": "stream",
     "text": [
      "input\n",
      "input  [[1, 130, 90, 466, 997, 2428, 274, 5, 163], [1, 847, 1563, 3616, 3, 3409, 369, 64, 133], [1, 20, 1504, 3, 88, 4, 87, 267, 1694, 67], [1, 497, 1954, 3, 552, 1486, 4, 218, 135, 36, 525, 2280], [1, 3617, 4742, 957, 179, 5937, 3410, 776, 142]]\n",
      "target\n",
      "decoder  [[130, 90, 466, 997, 2428, 274, 5, 163, 2], [847, 1563, 3616, 3, 3409, 369, 64, 133, 2], [20, 1504, 3, 88, 4, 87, 267, 1694, 67, 2], [497, 1954, 3, 552, 1486, 4, 218, 135, 36, 525, 2280, 2], [3617, 4742, 957, 179, 5937, 3410, 776, 142, 2]]\n"
     ]
    }
   ],
   "source": [
    "tar_vocab = 9500\n",
    "tar_tokenizer = Tokenizer(num_words=tar_vocab) \n",
    "tar_tokenizer.fit_on_texts(decoder_input_train)\n",
    "tar_tokenizer.fit_on_texts(decoder_target_train)\n",
    "\n",
    "# 텍스트 시퀀스를 정수 시퀀스로 변환\n",
    "\n",
    "decoder_input_train = tar_tokenizer.texts_to_sequences(decoder_input_train) \n",
    "decoder_target_train = tar_tokenizer.texts_to_sequences(decoder_target_train)\n",
    "decoder_input_test = tar_tokenizer.texts_to_sequences(decoder_input_test)\n",
    "decoder_target_test = tar_tokenizer.texts_to_sequences(decoder_target_test)\n",
    "\n",
    "# 잘 변환되었는지 확인\n",
    "\n",
    "print('input')\n",
    "print('input ',decoder_input_train[:5])\n",
    "print('target')\n",
    "print('decoder ',decoder_target_train[:5])"
   ]
  },
  {
   "cell_type": "code",
   "execution_count": 35,
   "id": "packed-induction",
   "metadata": {},
   "outputs": [
    {
     "name": "stdout",
     "output_type": "stream",
     "text": [
      "삭제할 훈련 데이터의 개수 : 1\n",
      "삭제할 테스트 데이터의 개수 : 0\n",
      "훈련 데이터의 개수 : 68674\n",
      "훈련 레이블의 개수 : 68674\n",
      "테스트 데이터의 개수 : 17168\n",
      "테스트 레이블의 개수 : 17168\n"
     ]
    },
    {
     "name": "stderr",
     "output_type": "stream",
     "text": [
      "/opt/conda/lib/python3.7/site-packages/numpy/core/_asarray.py:83: VisibleDeprecationWarning: Creating an ndarray from ragged nested sequences (which is a list-or-tuple of lists-or-tuples-or ndarrays with different lengths or shapes) is deprecated. If you meant to do this, you must specify 'dtype=object' when creating the ndarray\n",
      "  return array(a, dtype, copy=False, order=order)\n"
     ]
    }
   ],
   "source": [
    "# 요약문에서 길이가 0이 된 샘플들의 인덱스를 받아와볼게요. 여기서 주의할 점은 요약문인 decoder_input에는 sostoken 또는 decoder_target에는 eostoken이 추가된 상태이고, \n",
    "# 이 두 토큰은 모든 샘플에서 등장하므로 빈도수가 샘플 수와 동일하게 매우 높으므로 단어 집합 제한에도 삭제되지 않는다.\n",
    "# 그래서 이제 길이가 0이 된 요약문의 실제 길이는 1로 나올 것이다. \n",
    "# 길이 0이 된 decoder_input에는 sostoken, decoder_target에는 eostoken만 남아 있다.\n",
    "\n",
    "# 훈련 데이터와 테스트 데이터에 대해서 요약문의 길이가 1인 경우의 인덱스를 각각 drop_train과 drop_test에 라는 변수에 저장한 후 삭제한다.\n",
    "\n",
    "drop_train = [index for index, sentence in enumerate(decoder_input_train) if len(sentence) == 1]\n",
    "drop_test = [index for index, sentence in enumerate(decoder_input_test) if len(sentence) == 1]\n",
    "\n",
    "print('삭제할 훈련 데이터의 개수 :', len(drop_train))\n",
    "print('삭제할 테스트 데이터의 개수 :', len(drop_test))\n",
    "\n",
    "encoder_input_train = np.delete(encoder_input_train, drop_train, axis=0)\n",
    "decoder_input_train = np.delete(decoder_input_train, drop_train, axis=0)\n",
    "decoder_target_train = np.delete(decoder_target_train, drop_train, axis=0)\n",
    "\n",
    "encoder_input_test = np.delete(encoder_input_test, drop_test, axis=0)\n",
    "decoder_input_test = np.delete(decoder_input_test, drop_test, axis=0)\n",
    "decoder_target_test = np.delete(decoder_target_test, drop_test, axis=0)\n",
    "\n",
    "print('훈련 데이터의 개수 :', len(encoder_input_train))\n",
    "print('훈련 레이블의 개수 :', len(decoder_input_train))\n",
    "print('테스트 데이터의 개수 :', len(encoder_input_test))\n",
    "print('테스트 레이블의 개수 :', len(decoder_input_test))\n"
   ]
  },
  {
   "cell_type": "markdown",
   "id": "julian-decline",
   "metadata": {},
   "source": [
    "### 2-6. 패딩하기"
   ]
  },
  {
   "cell_type": "code",
   "execution_count": 38,
   "id": "global-humanity",
   "metadata": {},
   "outputs": [],
   "source": [
    "encoder_input_train = pad_sequences(encoder_input_train, maxlen=text_max_len, padding='post')\n",
    "encoder_input_test = pad_sequences(encoder_input_test, maxlen=text_max_len, padding='post')\n",
    "decoder_input_train = pad_sequences(decoder_input_train, maxlen=headlines_max_len, padding='post')\n",
    "decoder_target_train = pad_sequences(decoder_target_train, maxlen=headlines_max_len, padding='post')\n",
    "decoder_input_test = pad_sequences(decoder_input_test, maxlen=headlines_max_len, padding='post')\n",
    "decoder_target_test = pad_sequences(decoder_target_test, maxlen=headlines_max_len, padding='post')"
   ]
  },
  {
   "cell_type": "markdown",
   "id": "basic-manitoba",
   "metadata": {},
   "source": [
    "## Step 3. 모델 설계하기"
   ]
  },
  {
   "cell_type": "markdown",
   "id": "unexpected-spider",
   "metadata": {},
   "source": [
    "### 3-1. 기본적인 seq2seq"
   ]
  },
  {
   "cell_type": "code",
   "execution_count": 39,
   "id": "representative-ozone",
   "metadata": {},
   "outputs": [
    {
     "name": "stdout",
     "output_type": "stream",
     "text": [
      "WARNING:tensorflow:Layer lstm will not use cuDNN kernel since it doesn't meet the cuDNN kernel criteria. It will use generic GPU kernel as fallback when running on GPU\n",
      "WARNING:tensorflow:Layer lstm_1 will not use cuDNN kernel since it doesn't meet the cuDNN kernel criteria. It will use generic GPU kernel as fallback when running on GPU\n",
      "WARNING:tensorflow:Layer lstm_2 will not use cuDNN kernel since it doesn't meet the cuDNN kernel criteria. It will use generic GPU kernel as fallback when running on GPU\n"
     ]
    }
   ],
   "source": [
    "from tensorflow.keras.layers import Input, LSTM, Embedding, Dense, Concatenate\n",
    "from tensorflow.keras.models import Model\n",
    "from tensorflow.keras.callbacks import EarlyStopping, ModelCheckpoint\n",
    "\n",
    "\n",
    "# 인코더 설계 시작\n",
    "embedding_dim = 128\n",
    "hidden_size = 256 # hidden state는 LSTM에서 얼만큼의 수용력(capacity)를 가질지를 정하는 파라미터이다.\n",
    "\n",
    "# 인코더\n",
    "encoder_inputs = Input(shape=(text_max_len,))\n",
    "\n",
    "# 인코더의 임베딩 층\n",
    "enc_emb = Embedding(src_vocab, embedding_dim)(encoder_inputs)\n",
    "\n",
    "# 인코더의 LSTM 1\n",
    "encoder_lstm1 = LSTM(hidden_size, return_sequences=True, return_state=True ,dropout = 0.4, recurrent_dropout = 0.4) #  return_sequences 인자에 따라 마지막 시퀀스에서 한 번만 출력할 수 있고 각 시퀀스에서 출력을 할 수 있다.\n",
    "encoder_output1, state_h1, state_c1 = encoder_lstm1(enc_emb)\n",
    "\n",
    "# 인코더의 LSTM 2\n",
    "encoder_lstm2 = LSTM(hidden_size, return_sequences=True, return_state=True, dropout=0.4, recurrent_dropout=0.4)\n",
    "encoder_output2, state_h2, state_c2 = encoder_lstm2(encoder_output1)\n",
    "\n",
    "# 인코더의 LSTM 3\n",
    "encoder_lstm3 = LSTM(hidden_size, return_state=True, return_sequences=True, dropout=0.4, recurrent_dropout=0.4)\n",
    "encoder_outputs, state_h, state_c= encoder_lstm3(encoder_output2)"
   ]
  },
  {
   "cell_type": "code",
   "execution_count": 40,
   "id": "characteristic-scope",
   "metadata": {},
   "outputs": [
    {
     "name": "stdout",
     "output_type": "stream",
     "text": [
      "WARNING:tensorflow:Layer lstm_3 will not use cuDNN kernel since it doesn't meet the cuDNN kernel criteria. It will use generic GPU kernel as fallback when running on GPU\n"
     ]
    }
   ],
   "source": [
    "# 디코더 설계\n",
    "decoder_inputs = Input(shape=(None,))\n",
    "\n",
    "# 디코더의 임베딩 층\n",
    "dec_emb_layer = Embedding(tar_vocab, embedding_dim)\n",
    "dec_emb = dec_emb_layer(decoder_inputs)\n",
    "\n",
    "# 디코더의 LSTM\n",
    "decoder_lstm = LSTM(hidden_size, return_sequences=True, return_state=True, dropout=0.4, recurrent_dropout=0.2)\n",
    "decoder_outputs, _, _ = decoder_lstm(dec_emb, initial_state=[state_h, state_c])"
   ]
  },
  {
   "cell_type": "code",
   "execution_count": 41,
   "id": "equipped-procedure",
   "metadata": {},
   "outputs": [
    {
     "name": "stdout",
     "output_type": "stream",
     "text": [
      "Model: \"model\"\n",
      "__________________________________________________________________________________________________\n",
      "Layer (type)                    Output Shape         Param #     Connected to                     \n",
      "==================================================================================================\n",
      "input_1 (InputLayer)            [(None, 40)]         0                                            \n",
      "__________________________________________________________________________________________________\n",
      "embedding (Embedding)           (None, 40, 128)      2560000     input_1[0][0]                    \n",
      "__________________________________________________________________________________________________\n",
      "lstm (LSTM)                     [(None, 40, 256), (N 394240      embedding[0][0]                  \n",
      "__________________________________________________________________________________________________\n",
      "input_2 (InputLayer)            [(None, None)]       0                                            \n",
      "__________________________________________________________________________________________________\n",
      "lstm_1 (LSTM)                   [(None, 40, 256), (N 525312      lstm[0][0]                       \n",
      "__________________________________________________________________________________________________\n",
      "embedding_1 (Embedding)         (None, None, 128)    1216000     input_2[0][0]                    \n",
      "__________________________________________________________________________________________________\n",
      "lstm_2 (LSTM)                   [(None, 40, 256), (N 525312      lstm_1[0][0]                     \n",
      "__________________________________________________________________________________________________\n",
      "lstm_3 (LSTM)                   [(None, None, 256),  394240      embedding_1[0][0]                \n",
      "                                                                 lstm_2[0][1]                     \n",
      "                                                                 lstm_2[0][2]                     \n",
      "__________________________________________________________________________________________________\n",
      "dense (Dense)                   (None, None, 9500)   2441500     lstm_3[0][0]                     \n",
      "==================================================================================================\n",
      "Total params: 8,056,604\n",
      "Trainable params: 8,056,604\n",
      "Non-trainable params: 0\n",
      "__________________________________________________________________________________________________\n"
     ]
    }
   ],
   "source": [
    "# 디코더의 출력층\n",
    "decoder_softmax_layer = Dense(tar_vocab, activation='softmax')\n",
    "decoder_softmax_outputs = decoder_softmax_layer(decoder_outputs) \n",
    "\n",
    "# 모델 정의\n",
    "model = Model([encoder_inputs, decoder_inputs], decoder_softmax_outputs)\n",
    "model.summary()"
   ]
  },
  {
   "cell_type": "markdown",
   "id": "major-letter",
   "metadata": {},
   "source": [
    "### 3-2. 어텐션 메커니즘 사용하기 (추상적 요약)"
   ]
  },
  {
   "cell_type": "code",
   "execution_count": 42,
   "id": "affecting-operation",
   "metadata": {},
   "outputs": [],
   "source": [
    "# 이미 구현된 어텐션 함수를 가져와서 디코더의 출력층에 어떤 방식으로 결합하는지 배워본다,\n",
    "\n",
    "urllib.request.urlretrieve(\"https://raw.githubusercontent.com/thushv89/attention_keras/master/src/layers/attention.py\", filename=\"attention.py\")\n",
    "from attention import AttentionLayer"
   ]
  },
  {
   "cell_type": "code",
   "execution_count": 43,
   "id": "closing-superior",
   "metadata": {},
   "outputs": [
    {
     "name": "stdout",
     "output_type": "stream",
     "text": [
      "Model: \"model_1\"\n",
      "__________________________________________________________________________________________________\n",
      "Layer (type)                    Output Shape         Param #     Connected to                     \n",
      "==================================================================================================\n",
      "input_1 (InputLayer)            [(None, 40)]         0                                            \n",
      "__________________________________________________________________________________________________\n",
      "embedding (Embedding)           (None, 40, 128)      2560000     input_1[0][0]                    \n",
      "__________________________________________________________________________________________________\n",
      "lstm (LSTM)                     [(None, 40, 256), (N 394240      embedding[0][0]                  \n",
      "__________________________________________________________________________________________________\n",
      "input_2 (InputLayer)            [(None, None)]       0                                            \n",
      "__________________________________________________________________________________________________\n",
      "lstm_1 (LSTM)                   [(None, 40, 256), (N 525312      lstm[0][0]                       \n",
      "__________________________________________________________________________________________________\n",
      "embedding_1 (Embedding)         (None, None, 128)    1216000     input_2[0][0]                    \n",
      "__________________________________________________________________________________________________\n",
      "lstm_2 (LSTM)                   [(None, 40, 256), (N 525312      lstm_1[0][0]                     \n",
      "__________________________________________________________________________________________________\n",
      "lstm_3 (LSTM)                   [(None, None, 256),  394240      embedding_1[0][0]                \n",
      "                                                                 lstm_2[0][1]                     \n",
      "                                                                 lstm_2[0][2]                     \n",
      "__________________________________________________________________________________________________\n",
      "attention_layer (AttentionLayer ((None, None, 256),  131328      lstm_2[0][0]                     \n",
      "                                                                 lstm_3[0][0]                     \n",
      "__________________________________________________________________________________________________\n",
      "concat_layer (Concatenate)      (None, None, 512)    0           lstm_3[0][0]                     \n",
      "                                                                 attention_layer[0][0]            \n",
      "__________________________________________________________________________________________________\n",
      "dense_1 (Dense)                 (None, None, 9500)   4873500     concat_layer[0][0]               \n",
      "==================================================================================================\n",
      "Total params: 10,619,932\n",
      "Trainable params: 10,619,932\n",
      "Non-trainable params: 0\n",
      "__________________________________________________________________________________________________\n"
     ]
    }
   ],
   "source": [
    "# 어텐션 층(어텐션 함수)\n",
    "attn_layer = AttentionLayer(name='attention_layer')\n",
    "\n",
    "# 인코더와 디코더의 모든 time step의 hidden state를 어텐션 층에 전달하고 결과를 리턴\n",
    "attn_out, attn_states = attn_layer([encoder_outputs, decoder_outputs])\n",
    "\n",
    "# 어텐션의 결과와 디코더의 hidden state들을 연결\n",
    "decoder_concat_input = Concatenate(axis=-1, name='concat_layer')([decoder_outputs, attn_out])\n",
    "\n",
    "# 디코더의 출력층\n",
    "decoder_softmax_layer = Dense(tar_vocab, activation='softmax')\n",
    "decoder_softmax_outputs = decoder_softmax_layer(decoder_concat_input)\n",
    "\n",
    "# 모델 정의\n",
    "model = Model([encoder_inputs, decoder_inputs], decoder_softmax_outputs)\n",
    "model.summary()"
   ]
  },
  {
   "cell_type": "markdown",
   "id": "cognitive-ceiling",
   "metadata": {},
   "source": [
    "## Step 4. 모델 훈련하기"
   ]
  },
  {
   "cell_type": "code",
   "execution_count": 44,
   "id": "revolutionary-indie",
   "metadata": {},
   "outputs": [
    {
     "name": "stdout",
     "output_type": "stream",
     "text": [
      "Epoch 1/50\n",
      "269/269 [==============================] - 191s 670ms/step - loss: 6.3723 - val_loss: 5.5884\n",
      "Epoch 2/50\n",
      "269/269 [==============================] - 180s 670ms/step - loss: 5.5303 - val_loss: 5.2140\n",
      "Epoch 3/50\n",
      "269/269 [==============================] - 177s 660ms/step - loss: 5.1357 - val_loss: 4.9064\n",
      "Epoch 4/50\n",
      "269/269 [==============================] - 178s 660ms/step - loss: 4.8090 - val_loss: 4.7143\n",
      "Epoch 5/50\n",
      "269/269 [==============================] - 179s 667ms/step - loss: 4.5741 - val_loss: 4.5626\n",
      "Epoch 6/50\n",
      "269/269 [==============================] - 180s 670ms/step - loss: 4.3923 - val_loss: 4.4515\n",
      "Epoch 7/50\n",
      "269/269 [==============================] - 180s 669ms/step - loss: 4.2246 - val_loss: 4.3612\n",
      "Epoch 8/50\n",
      "269/269 [==============================] - 180s 669ms/step - loss: 4.0845 - val_loss: 4.2693\n",
      "Epoch 9/50\n",
      "269/269 [==============================] - 181s 672ms/step - loss: 3.9557 - val_loss: 4.1995\n",
      "Epoch 10/50\n",
      "269/269 [==============================] - 182s 679ms/step - loss: 3.8336 - val_loss: 4.1373\n",
      "Epoch 11/50\n",
      "269/269 [==============================] - 182s 676ms/step - loss: 3.7291 - val_loss: 4.0922\n",
      "Epoch 12/50\n",
      "269/269 [==============================] - 183s 680ms/step - loss: 3.6360 - val_loss: 4.0497\n",
      "Epoch 13/50\n",
      "269/269 [==============================] - 181s 675ms/step - loss: 3.5483 - val_loss: 4.0158\n",
      "Epoch 14/50\n",
      "269/269 [==============================] - 183s 682ms/step - loss: 3.4733 - val_loss: 3.9850\n",
      "Epoch 15/50\n",
      "269/269 [==============================] - 181s 673ms/step - loss: 3.3916 - val_loss: 3.9604\n",
      "Epoch 16/50\n",
      "269/269 [==============================] - 184s 684ms/step - loss: 3.3267 - val_loss: 3.9444\n",
      "Epoch 17/50\n",
      "269/269 [==============================] - 190s 707ms/step - loss: 3.2752 - val_loss: 3.9251\n",
      "Epoch 18/50\n",
      "269/269 [==============================] - 189s 703ms/step - loss: 3.2137 - val_loss: 3.9114\n",
      "Epoch 19/50\n",
      "269/269 [==============================] - 188s 701ms/step - loss: 3.1649 - val_loss: 3.8946\n",
      "Epoch 20/50\n",
      "269/269 [==============================] - 183s 682ms/step - loss: 3.1125 - val_loss: 3.8916\n",
      "Epoch 21/50\n",
      "269/269 [==============================] - 183s 680ms/step - loss: 3.0638 - val_loss: 3.8834\n",
      "Epoch 22/50\n",
      "269/269 [==============================] - 184s 684ms/step - loss: 3.0204 - val_loss: 3.8709\n",
      "Epoch 23/50\n",
      "269/269 [==============================] - 183s 679ms/step - loss: 2.9733 - val_loss: 3.8654\n",
      "Epoch 24/50\n",
      "269/269 [==============================] - 183s 679ms/step - loss: 2.9324 - val_loss: 3.8619\n",
      "Epoch 25/50\n",
      "269/269 [==============================] - 184s 683ms/step - loss: 2.8849 - val_loss: 3.8599\n",
      "Epoch 26/50\n",
      "269/269 [==============================] - 184s 683ms/step - loss: 2.8547 - val_loss: 3.8439\n",
      "Epoch 27/50\n",
      "269/269 [==============================] - 184s 683ms/step - loss: 2.8195 - val_loss: 3.8512\n",
      "Epoch 28/50\n",
      "269/269 [==============================] - 183s 681ms/step - loss: 2.7831 - val_loss: 3.8578\n",
      "Epoch 00028: early stopping\n"
     ]
    }
   ],
   "source": [
    "model.compile(optimizer='rmsprop', loss='sparse_categorical_crossentropy')\n",
    "es = EarlyStopping(monitor='val_loss', patience=2, verbose=1)\n",
    "history = model.fit(x=[encoder_input_train, decoder_input_train], y=decoder_target_train, \\\n",
    "          validation_data=([encoder_input_test, decoder_input_test], decoder_target_test), \\\n",
    "          batch_size=256, callbacks=[es], epochs=50)"
   ]
  },
  {
   "cell_type": "code",
   "execution_count": 45,
   "id": "interesting-dakota",
   "metadata": {},
   "outputs": [
    {
     "data": {
      "image/png": "[encoded data removed]",
      "text/plain": [
       "<Figure size 432x288 with 1 Axes>"
      ]
     },
     "metadata": {
      "needs_background": "light"
     },
     "output_type": "display_data"
    }
   ],
   "source": [
    "plt.plot(history.history['loss'], label='train')\n",
    "plt.plot(history.history['val_loss'], label='test')\n",
    "plt.legend()\n",
    "plt.show()"
   ]
  },
  {
   "cell_type": "markdown",
   "id": "based-syndication",
   "metadata": {},
   "source": [
    "## Step 5. 인퍼런스 모델 구현하기"
   ]
  },
  {
   "cell_type": "code",
   "execution_count": 46,
   "id": "peripheral-macro",
   "metadata": {},
   "outputs": [],
   "source": [
    "# 테스트 단계에서는 정수 인덱스 행렬로 존재하던 텍스트 데이터를 실제 데이터로 복원해야 하므로, \n",
    "# 필요한 3개의 사전을 아래와 같이 미리 준비해 둔다.\n",
    "\n",
    "src_index_to_word = src_tokenizer.index_word # 원문 단어 집합에서 정수 -> 단어를 얻음\n",
    "tar_word_to_index = tar_tokenizer.word_index # 요약 단어 집합에서 단어 -> 정수를 얻음\n",
    "tar_index_to_word = tar_tokenizer.index_word # 요약 단어 집합에서 정수 -> 단어를 얻음"
   ]
  },
  {
   "cell_type": "code",
   "execution_count": 47,
   "id": "marine-dinner",
   "metadata": {},
   "outputs": [],
   "source": [
    "# seq2seq는 훈련할 때와 실제 동작할 때(인퍼런스 단계)의 방식이 다르므로 그에 맞게 모델 설계를 별개로 진행해야 한다.\n",
    "# 훈련 단계에서는 디코더의 입력부에 정답이 되는 문장 전체를 한꺼번에 넣고 디코더의 출력과 한 번에 비교할 수 있으므로, \n",
    "# 인코더와 디코더를 엮은 통짜 모델 하나만 준비했다.\n",
    "# 그러나 정답 문장이 없는 인퍼런스 단계에서는 만들어야 할 문장의 길이만큼 디코더가 반복 구조로 동작해야 하기 때문에 \n",
    "# 부득이하게 인퍼런스를 위한 모델 설계를 별도로 해주어야 한다. \n",
    "# 이때는 인코더 모델과 디코더 모델을 분리해서 설계한다.\n",
    "\n",
    "# 인코더 설계\n",
    "encoder_model = Model(inputs=encoder_inputs, outputs=[encoder_outputs, state_h, state_c])\n",
    "\n",
    "# 이전 시점의 상태들을 저장하는 텐서\n",
    "decoder_state_input_h = Input(shape=(hidden_size,))\n",
    "decoder_state_input_c = Input(shape=(hidden_size,))\n",
    "\n",
    "dec_emb2 = dec_emb_layer(decoder_inputs)\n",
    "\n",
    "# 문장의 다음 단어를 예측하기 위해서 초기 상태(initial_state)를 이전 시점의 상태로 사용. 이는 뒤의 함수 decode_sequence()에 구현\n",
    "# 훈련 과정에서와 달리 LSTM의 리턴하는 은닉 상태와 셀 상태인 state_h와 state_c를 버리지 않음.\n",
    "decoder_outputs2, state_h2, state_c2 = decoder_lstm(dec_emb2, initial_state=[decoder_state_input_h, decoder_state_input_c])"
   ]
  },
  {
   "cell_type": "code",
   "execution_count": 48,
   "id": "active-limit",
   "metadata": {},
   "outputs": [],
   "source": [
    "# 어텐션 함수\n",
    "decoder_hidden_state_input = Input(shape=(text_max_len, hidden_size))\n",
    "attn_out_inf, attn_states_inf = attn_layer([decoder_hidden_state_input, decoder_outputs2])\n",
    "decoder_inf_concat = Concatenate(axis=-1, name='concat')([decoder_outputs2, attn_out_inf])\n",
    "\n",
    "# 디코더의 출력층\n",
    "decoder_outputs2 = decoder_softmax_layer(decoder_inf_concat) \n",
    "\n",
    "# 최종 디코더 모델\n",
    "decoder_model = Model(\n",
    "    [decoder_inputs] + [decoder_hidden_state_input,decoder_state_input_h, decoder_state_input_c],\n",
    "    [decoder_outputs2] + [state_h2, state_c2])"
   ]
  },
  {
   "cell_type": "code",
   "execution_count": 54,
   "id": "listed-sleeping",
   "metadata": {},
   "outputs": [],
   "source": [
    "def decode_sequence(input_seq):\n",
    "    # 입력으로부터 인코더의 상태를 얻음\n",
    "    e_out, e_h, e_c = encoder_model.predict(input_seq)\n",
    "\n",
    "     # <SOS>에 해당하는 토큰 생성\n",
    "    target_seq = np.zeros((1,1))\n",
    "    target_seq[0, 0] = tar_word_to_index['sostoken']\n",
    "\n",
    "    stop_condition = False\n",
    "    decoded_sentence = ''\n",
    "    while not stop_condition: # stop_condition이 True가 될 때까지 루프 반복\n",
    "\n",
    "        output_tokens, h, c = decoder_model.predict([target_seq] + [e_out, e_h, e_c])\n",
    "        sampled_token_index = np.argmax(output_tokens[0, -1, :])\n",
    "        sampled_token = tar_index_to_word[sampled_token_index]\n",
    "\n",
    "        if (sampled_token!='eostoken'):\n",
    "            decoded_sentence += ' '+sampled_token\n",
    "\n",
    "        #  <eos>에 도달하거나 최대 길이를 넘으면 중단.\n",
    "        if (sampled_token == 'eostoken'  or len(decoded_sentence.split()) >= (headlines_max_len-1)):\n",
    "            stop_condition = True\n",
    "\n",
    "        # 길이가 1인 타겟 시퀀스를 업데이트\n",
    "        target_seq = np.zeros((1,1))\n",
    "        target_seq[0, 0] = sampled_token_index\n",
    "\n",
    "        # 상태를 업데이트 합니다.\n",
    "        e_h, e_c = h, c\n",
    "\n",
    "    return decoded_sentence"
   ]
  },
  {
   "cell_type": "markdown",
   "id": "sunrise-finding",
   "metadata": {},
   "source": [
    "## Step 6. 실제 결과와 요약문 비교하기 (추상적 요약)"
   ]
  },
  {
   "cell_type": "code",
   "execution_count": 55,
   "id": "circular-things",
   "metadata": {},
   "outputs": [],
   "source": [
    "# 원문의 정수 시퀀스를 텍스트 시퀀스로 변환\n",
    "def seq2text(input_seq):\n",
    "    temp=''\n",
    "    for i in input_seq:\n",
    "        if (i!=0):\n",
    "            temp = temp + src_index_to_word[i]+' '\n",
    "    return temp\n",
    "\n",
    "# 요약문의 정수 시퀀스를 텍스트 시퀀스로 변환\n",
    "def seq2headlines(input_seq):\n",
    "    temp=''\n",
    "    for i in input_seq:\n",
    "        if ((i!=0 and i!=tar_word_to_index['sostoken']) and i!=tar_word_to_index['eostoken']):\n",
    "            temp = temp + tar_index_to_word[i] + ' '\n",
    "    return temp"
   ]
  },
  {
   "cell_type": "code",
   "execution_count": 56,
   "id": "contained-dynamics",
   "metadata": {},
   "outputs": [
    {
     "name": "stdout",
     "output_type": "stream",
     "text": [
      "원문 : us financial regulator sec probing automaker nissan reportedly disclosure executive pay us comes company ousted chairman carlos ghosn arrest allegations reporting income nissan ceo said company corporate governance permitted situation continue clearly calls grave reflection \n",
      "실제 요약 : nissan faces sec probe in us over executive pay reports \n",
      "예측 요약 :  infosys rejects us firm firm to pay crore to settle\n",
      "\n",
      "\n",
      "원문 : uk based researchers mars conditions discovered planet thin atmosphere combined warm temperatures causes surface water sand enables transport sediments resulting landscape formations new geological phenomenon happen earth could help understand similar processes planets said researchers \n",
      "실제 요약 : mars formed from sand study \n",
      "예측 요약 :  scientists discover new year old planet\n",
      "\n",
      "\n",
      "원문 : earliest ancestors horses size small dog sported three toes front legs four back harvard researchers shown increasing body weight prompted middle toes become stronger resist forces effect combined shrinking side toes led horses evolve existing single animals \n",
      "실제 요약 : how horses became the only living animals with single \n",
      "예측 요약 :  researchers make its first look of\n",
      "\n",
      "\n",
      "원문 : additional secretary disaster management department bihar kumar tuesday said many people lost lives state due floods bihar cm nitish kumar monday reviewed flood affected areas said rescue relief operation going asked iaf helicopter distribute food packets \n",
      "실제 요약 : people lost their lives in bihar floods \n",
      "예측 요약 :  bihar cm announces crore aid for flood hit bihar\n",
      "\n",
      "\n",
      "원문 : german professional road bicycle racer john took twitter share picture km long paris race year old finished race hours minutes seconds captioned picture direct scale state honest \n",
      "실제 요약 : cyclist shares image of himself after km race \n",
      "예측 요약 :  picture of the unveiled in picture of\n",
      "\n",
      "\n",
      "원문 : mumbai residential society burnt giant model hookah occasion wake kamala mills fire killed people residents said model erected convey hookah burnt kamala mills burn comes inquiry revealed hookah served pub caused fire \n",
      "실제 요약 : hookah replica burnt ahead of holi over kamala mills fire \n",
      "예측 요약 :  mumbai police station to protest against mumbai\n",
      "\n",
      "\n",
      "원문 : least two army personnel reportedly killed two others injured blast near line control jammu kashmir sector saturday blast reportedly took place army men patrolling area army official said accidental blast investigation going \n",
      "실제 요약 : soldiers killed injured in mine blast in \n",
      "예측 요약 :  army jawans killed in encounter in jammu and kashmir\n",
      "\n",
      "\n",
      "원문 : addressing forum arab leaders saturday us defence secretary james mattis said russia cannot replace us middle east mattis added russia support syrian president bashar al assad shows lack sincere commitment essential moral principles described us commitment region enduring transparent \n",
      "실제 요약 : russia cannot replace us in middle east defence secretary \n",
      "예측 요약 :  russia to russia islamic state secy\n",
      "\n",
      "\n",
      "원문 : video senegal football team players dancing singing official training ahead fifa world cup match japan surfaced online reacting video user tweeted even care football soccer senegal fan joy senegal beaten poland first match tournament \n",
      "실제 요약 : players dance during practice before world cup game \n",
      "예측 요약 :  fans hold video goes viral during video goes viral\n",
      "\n",
      "\n",
      "원문 : uttar pradesh government thursday announced road leading village sho subodh kumar singh died bulandshahr violence would named government also considering naming college slain sho announcement came family slain sho met cm yogi adityanath lucknow \n",
      "실제 요약 : road college to be named after bulandshahr sho up govt \n",
      "예측 요약 :  up govt orders up to death for gorakhpur violence\n",
      "\n",
      "\n",
      "원문 : ndtv ceo narayan rao passed away monday age battling cancer two years rao joined organisation look human resources administration operations ndtv later joined company board executive director rao started career journalist indian express \n",
      "실제 요약 : ndtv group ceo narayan rao dies at \n",
      "예측 요약 :  fortis of family of family dies after years\n",
      "\n",
      "\n",
      "원문 : home ministry sanctioned nearly crore hire air india planes ferry security personnel homes remote areas like jammu kashmir northeast posted ministry official said would end grievances soldiers spend sometimes six days leave travelling \n",
      "실제 요약 : govt hires air india planes to ferry security personnel \n",
      "예측 요약 :  govt owes crore to air india border\n",
      "\n",
      "\n",
      "원문 : chennai san bruno based business software tools providing startup freshworks tuesday raised million series funding became billion dollar startup valuation billion funding round co led sequoia accel partners participation google freshworks founded girish mathrubootham \n",
      "실제 요약 : raises mn becomes billion dollar startup \n",
      "예측 요약 :  startup raises mn in series funding\n",
      "\n",
      "\n",
      "원문 : year old student preparing national eligibility cum entrance test rajasthan kota allegedly committed suicide hanging video chat father thursday boy father lives another city called boy landlord landlord broke boy room door rushed hospital declared dead \n",
      "실제 요약 : neet aspirant hangs himself during video chat with father \n",
      "예측 요약 :  yr old student commits suicide in bihar\n",
      "\n",
      "\n",
      "원문 : instagram launched mb app low end android devices th size instagram mb main app users filter post photos feed stories explore page cannot share videos direct message friends yet app currently tested mexico company spokesperson said \n",
      "실제 요약 : instagram launches app for android devices \n",
      "예측 요약 :  facebook launches app for users to launch\n",
      "\n",
      "\n",
      "원문 : year old boy rajasthan witnessed mother assaulted stripped naked fed human excreta labelled witch villagers boy even threatened treated way tried save mother however died next day khap panchayat ordered file police complaint \n",
      "실제 요약 : rajasthan teen witnesses mother being stripped fed \n",
      "예측 요약 :  year old boy saves from friend while playing stick\n",
      "\n",
      "\n",
      "원문 : india israel signed total seven agreements various areas like agriculture space cooperation pm narendra modi visit israel two countries also signed memorandum understanding setting million india israel industrial research development technical innovation fund notably three seven regarding space cooperation \n",
      "실제 요약 : what deals were signed between india and israel \n",
      "예측 요약 :  israel israel sign israel border to palestinians\n",
      "\n",
      "\n",
      "원문 : large hadron collider world powerful particle accelerator detected higgs boson often dubbed god particle higgs boson known interact massive particles discovered two photons said researchers adding higgs boson seen portal new physics \n",
      "실제 요약 : world biggest atom detects god particle again \n",
      "예측 요약 :  world oldest person was found in years\n",
      "\n",
      "\n",
      "원문 : two male penguins magic built nest together ice sydney sea life aquarium egg given aquarium staff presented dummy egg first couple immediately knew exactly started said officials later gave penguins real egg look \n",
      "실제 요약 : gay penguin couple builds egg at sydney \n",
      "예측 요약 :  ice cream found in ice cream in uk\n",
      "\n",
      "\n",
      "원문 : talking divorce actress shivani actor sumeet vyas said would like confirm divorce happened amicably continue remain friends added friendship many years split ways lot respect said confirming divorce took place \n",
      "실제 요약 : we both continue to remain friends sumeet vyas on ex wife \n",
      "예측 요약 :  am not being called for divorce says actress\n",
      "\n",
      "\n",
      "원문 : gujarat state begun cow tourism project aim promote cow rearing state tourists take two day trip find cows products made cow urine dung cow tourism combining religious economical aspects attached cows officials said \n",
      "실제 요약 : gujarat starts cow tourism project to promote the animal \n",
      "예측 요약 :  gujarat to cow cows in lucknow\n",
      "\n",
      "\n",
      "원문 : year old girl allegedly raped year old man school madhya pradesh sunday incident happened main accused allegedly lured room school two teachers locked room door outside main accused two teachers arrested \n",
      "실제 요약 : minor girl raped in mp school main accused teachers held \n",
      "예측 요약 :  year old girl raped by school in school school\n",
      "\n",
      "\n",
      "원문 : filmmaker anurag kashyap sports drama opening film th mumbai film festival thursday dying see everybody reacts tried make film radar said kashyap film screening kunal kapoor aditi rao hydari hosted opening ceremony fest ends october \n",
      "실제 요약 : anurag kashyap opens th film festival \n",
      "예측 요약 :  anurag kashyap to feature in anurag film reports\n",
      "\n",
      "\n",
      "원문 : karnataka government invoked essential services maintenance act prohibit parties involved waste management process protesting next one year comes waste contractors staged two flash strikes within one month bengaluru civic body decision eliminate role middlemen waste management \n",
      "실제 요약 : taka govt protest by waste contractors for yr \n",
      "예측 요약 :  karnataka govt to protest against sealing of burning\n",
      "\n",
      "\n",
      "원문 : indian banks reportedly witnessed loan fraud cases worth crore last years bribe loan scam involving crore uncovered multiple banks defrauded move crore forex scam vijay mallya defaulted crore worth loans nilesh parekh caused loss crore banks \n",
      "실제 요약 : which are the biggest banking scams india has witnessed \n",
      "예측 요약 :  sbi banks crore crore in loan fraud\n",
      "\n",
      "\n",
      "원문 : mit study revealed false stories reach people six times faster true stories twitter scholars found spread false information due bots programmed inaccurate stories due people retweeting inaccurate news items conduct study researchers tracked around news stories \n",
      "실제 요약 : fake tweets spread times faster than facts mit study \n",
      "예측 요약 :  mit team to mit women who lost the one\n",
      "\n",
      "\n",
      "원문 : posters claiming union minister sushma swaraj missing come constituency madhya pradesh posters list problems people district reportedly put due swaraj long absence constituency similar missing posters rahul sonia gandhi put constituencies well \n",
      "실제 요약 : missing posters of sushma swaraj put up in her constituency \n",
      "예측 요약 :  swaraj visits tourism minister for missing posters in mp\n",
      "\n",
      "\n",
      "원문 : air india planning take short term loans crore meet urgent working capital requirements senior official said airline facing cash deficit loans help meeting immediate requirements tenure loan one year amount proposed drawn two three tranches \n",
      "실제 요약 : air india plans crore loans for urgent capital needs \n",
      "예측 요약 :  air india seeks crore loan to crore\n",
      "\n",
      "\n",
      "원문 : interview new york times saturday twitter co founder evan williams said true donald trump would president twitter yeah sorry added bad thing twitter role march trump said would president twitter \n",
      "실제 요약 : am sorry if twitter helped trump become us prez co founder \n",
      "예측 요약 :  trump is not the best thing co founder\n",
      "\n",
      "\n",
      "원문 : donald trump became first us president pray jerusalem western wall visit israel trump stood alone hand wall several moments note deep cracks trump later called great honour visit wall saying see much deeper path friendship israel \n",
      "실제 요약 : trump first us president to pray at jerusalem western wall \n",
      "예측 요약 :  trump calls for trump flag at un camp\n",
      "\n",
      "\n",
      "원문 : congress leader mallikarjun kharge accused lok sabha speaker sumitra mahajan unfair party allotted minutes speak debate confidence motion government allotted time grossly inadequate discuss issues affecting farmers women dalits alleged meanwhile bjp allotted minutes seven hour debate \n",
      "실제 요약 : unfair congress on getting mins for no confidence debate \n",
      "예측 요약 :  no trust motion against cong mp on ls polls\n",
      "\n",
      "\n",
      "원문 : representatives non banking financial companies housing finance companies met prime minister narendra modi seek easier norms regulating sector industry hit liquidity issues tough regulations rbi delegation said demanded central bank provide liquidity window restore confidence sector \n",
      "실제 요약 : non bank meet pm modi seek \n",
      "예측 요약 :  govt seeks to pay for pm modi foreign firms\n",
      "\n",
      "\n",
      "원문 : us based retail giant walmart testing self driving robot floor company spokesperson confirmed autonomous robot features cameras sensors lidar help manoeuvre dodge obstacles october walmart announced deploying shelf scanning robots across locations united states \n",
      "실제 요약 : walmart tests self driving floor robots \n",
      "예측 요약 :  walmart self driving driving delivery delivery in us\n",
      "\n",
      "\n",
      "원문 : ministry external affairs spokesperson raveesh kumar friday said new developments indo china border doklam vicinity dismissed reports claiming otherwise comes several media reports surfaced said china military presence areas close doklam \n",
      "실제 요약 : no new development at doklam ministry of external affairs \n",
      "예측 요약 :  govt to hold joint border of indian fighter minister\n",
      "\n",
      "\n",
      "원문 : pune match india new zealand today th odi two nations india encounters new zealand lost times new zealand become fifth international side sri lanka pakistan australia windies played odis india \n",
      "실제 요약 : india face new zealand for th time in odi cricket today \n",
      "예측 요약 :  india beat australia to win series against sri lanka\n",
      "\n",
      "\n",
      "원문 : panchkula court wednesday sent jailed dera chief gurmeet ram rahim singh adopted daughter honeypreet insan police custody six days charges sedition inciting violence honeypreet arrested tuesday reportedly complained chest pain night taken hospital found fine doctors \n",
      "실제 요약 : honeypreet insan sent to day police custody \n",
      "예측 요약 :  honeypreet insan to be probed for bhima koregaon violence\n",
      "\n",
      "\n",
      "원문 : talking decision investing technology giants google amazon american investor warren buffett saturday said made wrong decisions two companies also said made mistake able come conclusion present prices prospects far better prices indicated \n",
      "실제 요약 : made wrong decisions on google amazon warren buffett \n",
      "예측 요약 :  apple says it is like like their decisions apple ceo\n",
      "\n",
      "\n",
      "원문 : millionaire businessman robert richest candidate mizoram assembly elections owns state first luxury sports car football club aizawl fc bagged league title year old mizo national front leader declared assets worth crore lost lok sabha polls fought independent candidate \n",
      "실제 요약 : richest mizoram candidate owns state st sports car soccer club \n",
      "예측 요약 :  ex billionaire wins million in contest\n",
      "\n",
      "\n",
      "원문 : nagaland government employees tuesday staged rally capital protest terror funding probe conducted employees national investigation agency stating people pay money militant outfits due life threats employees demanded nia stop probe seven employees accused diverting government funds rebel groups \n",
      "실제 요약 : nagaland govt employees protest against terror funding probe \n",
      "예측 요약 :  andhra govt to give anti anti sikh rally\n",
      "\n",
      "\n",
      "원문 : delhi metro suspended four officials based internal investigation magenta line train crashed boundary wall kunj depot trial probe revealed train shifted washing area staff requisite without actually checking thereby reset brakes \n",
      "실제 요약 : delhi metro suspends four officials over crash \n",
      "예측 요약 :  delhi metro stations to get rams into helicopter crash\n",
      "\n",
      "\n",
      "원문 : traffic police bengaluru recently deployed man dressed lord ganesha give helmets commuters part road safety campaign man also gave roses people warned dangers traffic violations earlier bengaluru police officers performed street plays spread awareness traffic rules \n",
      "실제 요약 : lord ganesha gives helmets to people on bengaluru roads \n",
      "예측 요약 :  bengaluru traffic traffic traffic traffic police\n",
      "\n",
      "\n",
      "원문 : major infosys formed blockchain based trade finance network india partnership seven private sector banks including icici bank axis bank range functions include bill collection letters credit opening accounts trade use blockchain technology expected reduce risk fraud loc transactions \n",
      "실제 요약 : infosys sets up blockchain based trade network with banks \n",
      "예측 요약 :  infosys to acquire business loan for icici bank\n",
      "\n",
      "\n",
      "원문 : many supporters indonesian capital jakarta christian governor sang patriotic songs outside capital city hall wednesday protest imprisonment blasphemy others registered opposition verdict sentencing tweeting hashtag means rest peace indonesian law \n",
      "실제 요약 : protest after christian guv jailed for blasphemy \n",
      "예측 요약 :  indonesian town of the state of honour of honour\n",
      "\n",
      "\n",
      "원문 : bus conductor working tamil nadu state transport corporation issued memorandum issuing ticket pigeon travelling state run bus bound bus stopped inspection inspectors found drunk passenger ticketless pigeon window next \n",
      "실제 요약 : bus conductor faces action for not issuing ticket to pigeon \n",
      "예측 요약 :  tn bus driver killed in accident in delhi\n",
      "\n",
      "\n",
      "원문 : biopic former badminton player chief national coach pullela gopichand announced birthday thursday hindi telugu film presented fox star studios collaboration entertainment commenting biopic gopichand said would proud sharing story encourage people pursue dreams \n",
      "실제 요약 : biopic on badminton coach gopichand announced on his day \n",
      "예측 요약 :  ravi shastri to be part of the year kumar\n",
      "\n",
      "\n",
      "원문 : si unit mass using constant year old physical prototype kilogram retires new system uses balance weight balanced electromagnetic force late british physicist bryan latest balance measure constant uncertainties parts per billion \n",
      "실제 요약 : how is the new kilogram \n",
      "예측 요약 :  recalls lakh for weight\n",
      "\n",
      "\n",
      "원문 : prime minister narendra modi wednesday met royal family bhutan presented chess set official fifa world cup football one year old prince family currently four day visit india also met president ram nath kovind earlier day \n",
      "실제 요약 : pm modi presents fifa wc football to bhutan prince \n",
      "예측 요약 :  pm narendra modi meets world cup final for fifa india\n",
      "\n",
      "\n",
      "원문 : public sector banks wrote trillion worth loans april september government said added borrowers written loans continue liable repayment government said recovery dues takes place ongoing basis legal mechanism write offs benefit borrowers \n",
      "실제 요약 : public sector banks wrote off tn loans in over years \n",
      "예측 요약 :  banks bad loans to banks bad loans of banks\n",
      "\n",
      "\n",
      "원문 : american television host jimmy kimmel host th oscars kimmel said think ending year wait see planned th anniversary show referring oscars mix tweeted thanks asking host oscars \n",
      "실제 요약 : jimmy kimmel to host th anniversary of oscars in \n",
      "예측 요약 :  am not to be held for oscars\n",
      "\n",
      "\n",
      "원문 : russian base set world record jumping mount cho feet died accident himalayas saturday year old jumped foot high mount everest region accident occurred july become first person jump peru highest peak \n",
      "실제 요약 : record holder for highest base jump dies in the himalayas \n",
      "예측 요약 :  world most expensive car was in world tallest\n",
      "\n",
      "\n"
     ]
    }
   ],
   "source": [
    "for i in range(50, 100):\n",
    "    print(\"원문 :\", seq2text(encoder_input_test[i]))\n",
    "    print(\"실제 요약 :\", seq2headlines(decoder_input_test[i]))\n",
    "    print(\"예측 요약 :\", decode_sequence(encoder_input_test[i].reshape(1, text_max_len)))\n",
    "    print(\"\\n\")"
   ]
  },
  {
   "cell_type": "markdown",
   "id": "liquid-vampire",
   "metadata": {},
   "source": [
    "## Step 7. Summa을 이용해서 추출적 요약해보기"
   ]
  },
  {
   "cell_type": "code",
   "execution_count": 57,
   "id": "dramatic-january",
   "metadata": {},
   "outputs": [],
   "source": [
    "import requests\n",
    "from summa.summarizer import summarize"
   ]
  },
  {
   "cell_type": "code",
   "execution_count": 85,
   "id": "empirical-defense",
   "metadata": {},
   "outputs": [],
   "source": [
    "# 원문을 리스트로 저장\n",
    "text_list = []\n",
    "\n",
    "for i in range(50, 100):\n",
    "    text_list.append(str(seq2text(encoder_input_test[i])))"
   ]
  },
  {
   "cell_type": "code",
   "execution_count": 95,
   "id": "accepted-philippines",
   "metadata": {},
   "outputs": [],
   "source": [
    "# 원문을 텍스트 파일로 저장\n",
    "f = open(os.getenv(\"HOME\")+\"/aiffel/news_summarization/data/origin.txt\", \"a\")\n",
    "for i in text_list:\n",
    "    f.write(i + '\\n')\n",
    "f.close()"
   ]
  },
  {
   "cell_type": "code",
   "execution_count": 102,
   "id": "generous-reality",
   "metadata": {},
   "outputs": [],
   "source": [
    "# 텍스트 파일 불러오기\n",
    "filename = os.getenv(\"HOME\") + \"/aiffel/news_summarization/data/origin.txt\"\n",
    "with open(filename) as f:\n",
    "    text = f.read()"
   ]
  },
  {
   "cell_type": "code",
   "execution_count": 109,
   "id": "static-citation",
   "metadata": {},
   "outputs": [
    {
     "name": "stdout",
     "output_type": "stream",
     "text": [
      "Summary:\n",
      "prime minister narendra modi wednesday met royal family bhutan presented chess set official fifa world cup football one year old prince family currently four day visit india also met president ram nath kovind earlier day \n"
     ]
    }
   ],
   "source": [
    "# 비율을 적게 주어서 요약문으로 선택되는 문장의 개수를 줄여준다.\n",
    "\n",
    "print('Summary:')\n",
    "print(summarize(text, ratio=0.02))"
   ]
  },
  {
   "cell_type": "code",
   "execution_count": 108,
   "id": "continent-rebel",
   "metadata": {},
   "outputs": [
    {
     "name": "stdout",
     "output_type": "stream",
     "text": [
      "Summary:\n",
      "['prime minister narendra modi wednesday met royal family bhutan presented chess set official fifa world cup football one year old prince family currently four day visit india also met president ram nath kovind earlier day ']\n"
     ]
    }
   ],
   "source": [
    "# 만약 리스트로 출력 결과를 받고 싶다면 split 인자의 값을 True로 하면 된다.\n",
    "\n",
    "print('Summary:')\n",
    "print(summarize(text, ratio=0.02, split=True))"
   ]
  },
  {
   "cell_type": "code",
   "execution_count": 105,
   "id": "rubber-education",
   "metadata": {},
   "outputs": [
    {
     "name": "stdout",
     "output_type": "stream",
     "text": [
      "Summary:\n",
      "prime minister narendra modi wednesday met royal family bhutan presented chess set official fifa world cup football one year old prince family currently four day visit india also met president ram nath kovind earlier day \n"
     ]
    }
   ],
   "source": [
    "# 단어의 수로 요약문의 크기를 조절할 수도 있다.\n",
    "\n",
    "print('Summary:')\n",
    "print(summarize(text, words=50))"
   ]
  },
  {
   "cell_type": "markdown",
   "id": "rational-superior",
   "metadata": {},
   "source": [
    "## 회고\n"
   ]
  },
  {
   "cell_type": "markdown",
   "id": "entire-python",
   "metadata": {},
   "source": [
    "- 전반적으로 이해가 잘 가지 않았던 Exploration 이었다.\n",
    "- 어텐션에 대한 개념이 생소하며, 인퍼런스 모델을 구혀하는데 있어 이해가 잘 되지 않는다.\n",
    "- 추상적 요약에 대한 실제 예측과 예상 예측이 잘 맞지 않았다.\n",
    "- 전반적으로 자연어처리에 대한 기본지식이 부족함을 느낄 수 있었다."
   ]
  }
 ],
 "metadata": {
  "kernelspec": {
   "display_name": "Python 3",
   "language": "python",
   "name": "python3"
  },
  "language_info": {
   "codemirror_mode": {
    "name": "ipython",
    "version": 3
   },
   "file_extension": ".py",
   "mimetype": "text/x-python",
   "name": "python",
   "nbconvert_exporter": "python",
   "pygments_lexer": "ipython3",
   "version": "3.7.9"
  }
 },
 "nbformat": 4,
 "nbformat_minor": 5
}
